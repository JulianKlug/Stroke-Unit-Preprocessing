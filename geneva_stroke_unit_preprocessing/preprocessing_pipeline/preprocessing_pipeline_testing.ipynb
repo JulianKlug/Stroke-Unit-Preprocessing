{
 "cells": [
  {
   "cell_type": "code",
   "execution_count": null,
   "metadata": {
    "ExecuteTime": {
     "end_time": "2023-11-15T07:35:01.732068Z",
     "start_time": "2023-11-15T07:35:01.678253Z"
    }
   },
   "outputs": [],
   "source": [
    "import argparse\n",
    "import os\n",
    "\n",
    "import numpy as np\n",
    "import pandas as pd\n",
    "import time\n",
    "\n",
    "from preprocessing_tools.encoding_categorical_variables.encode_categorical_variables import encode_categorical_variables\n",
    "from preprocessing_tools.handling_missing_values.impute_missing_values import impute_missing_values\n",
    "from preprocessing_tools.normalisation.normalisation import normalise_data\n",
    "from preprocessing_tools.resample_to_time_bins.resample_to_hourly_features import resample_to_hourly_features\n",
    "from geneva_stroke_unit_preprocessing.variable_assembly.variable_database_assembly import assemble_variable_database\n",
    "from geneva_stroke_unit_preprocessing.variable_assembly.relative_timestamps import transform_to_relative_timestamps"
   ]
  },
  {
   "cell_type": "code",
   "execution_count": null,
   "metadata": {
    "ExecuteTime": {
     "end_time": "2023-11-15T07:35:01.755030Z",
     "start_time": "2023-11-15T07:35:01.733302Z"
    }
   },
   "outputs": [],
   "source": [
    "ehr_data_path = '/Users/jk1/stroke_datasets/stroke_unit_dataset/per_value/Extraction_20220815'\n",
    "\n",
    "stroke_registry_data_path = '/Users/jk1/Library/CloudStorage/OneDrive-unige.ch/stroke_research/geneva_stroke_unit_dataset/data/stroke_registry/post_hoc_modified/stroke_registry_post_hoc_modified.xlsx'\n",
    "patient_selection_path = '/Users/jk1/temp/treatment_effects/gsu_extraction_14112023_100007/high_frequency_data_patient_selection_with_details.csv'\n",
    "variable_selection_path = '/Users/jk1/temp/treatment_effects/selected_variables_treatment_effect.xlsx'\n",
    "log_dir = '/Users/jk1/temp/treatment_effects'\n",
    "\n",
    "verbose:bool=True"
   ]
  },
  {
   "cell_type": "code",
   "execution_count": null,
   "metadata": {
    "is_executing": true
   },
   "outputs": [],
   "source": [
    "# 1. Restrict to patient selection (& filter out patients with no EHR data or EHR data with wrong dates)\n",
    "# 2. Preprocess EHR and stroke registry variables\n",
    "# 3. Restrict to variable selection\n",
    "# 4. Assemble database from lab/scales/ventilation/vitals + stroke registry subparts\n",
    "print('STARTING VARIABLE PREPROCESSING')\n",
    "feature_df = assemble_variable_database(ehr_data_path, stroke_registry_data_path, \n",
    "                                        patient_selection_path, variable_selection_path,\n",
    "                                        log_dir=log_dir, verbose=verbose)\n",
    "print(f'A. Number of patients: {feature_df.case_admission_id.nunique()}')"
   ]
  },
  {
   "cell_type": "code",
   "execution_count": null,
   "metadata": {
    "ExecuteTime": {
     "end_time": "2023-11-14T18:06:30.505547Z",
     "start_time": "2023-11-14T18:06:30.375946Z"
    }
   },
   "outputs": [],
   "source": [
    "from geneva_stroke_unit_preprocessing.utils import create_registry_case_identification_column\n",
    "\n",
    "patient_selection = pd.read_csv(patient_selection_path, dtype=str)\n",
    "patient_selection['case_admission_id'] = create_registry_case_identification_column(patient_selection)\n"
   ]
  },
  {
   "cell_type": "code",
   "execution_count": null,
   "metadata": {
    "ExecuteTime": {
     "end_time": "2023-11-14T18:06:30.554257Z",
     "start_time": "2023-11-14T18:06:30.395006Z"
    }
   },
   "outputs": [],
   "source": [
    "patient_selection.case_admission_id.nunique()"
   ]
  },
  {
   "cell_type": "code",
   "execution_count": null,
   "metadata": {
    "ExecuteTime": {
     "end_time": "2023-11-14T18:06:30.717660Z",
     "start_time": "2023-11-14T18:06:30.409392Z"
    }
   },
   "outputs": [],
   "source": [
    "feature_df.head()"
   ]
  },
  {
   "cell_type": "code",
   "execution_count": null,
   "metadata": {
    "ExecuteTime": {
     "end_time": "2023-11-14T18:06:30.882611Z",
     "start_time": "2023-11-14T18:06:30.577730Z"
    }
   },
   "outputs": [],
   "source": [
    "feature_df[feature_df.value.isna()].sample_label.unique()"
   ]
  },
  {
   "cell_type": "code",
   "execution_count": null,
   "metadata": {
    "ExecuteTime": {
     "end_time": "2023-11-14T18:06:31.748679Z",
     "start_time": "2023-11-14T18:06:31.136916Z"
    }
   },
   "outputs": [],
   "source": [
    "feature_df.case_admission_id.nunique()"
   ]
  },
  {
   "cell_type": "code",
   "execution_count": null,
   "metadata": {
    "ExecuteTime": {
     "end_time": "2023-11-14T18:07:14.040692Z",
     "start_time": "2023-11-14T18:06:34.491221Z"
    }
   },
   "outputs": [],
   "source": [
    "# 5. Transform timestamps to relative timestamps from first measure\n",
    "# 6. Restrict to time range\n",
    "# - Exclude patients with data sampled in a time window < 12h\n",
    "# - Restrict to desired time range: 72h\n",
    "print('TRANSFORMING TO RELATIVE TIME AND RESTRICTING TIME RANGE')\n",
    "restricted_feature_df = transform_to_relative_timestamps(feature_df, drop_old_columns=False,\n",
    "                                                         restrict_to_time_range=True, desired_time_range=72,\n",
    "                                                         enforce_min_time_range=True, min_time_range=12,\n",
    "                                                         log_dir=log_dir)\n",
    "print(f'B. Number of patients: {restricted_feature_df.case_admission_id.nunique()}')"
   ]
  },
  {
   "cell_type": "code",
   "execution_count": null,
   "metadata": {
    "ExecuteTime": {
     "end_time": "2023-11-14T18:07:14.062335Z",
     "start_time": "2023-11-14T18:07:14.040416Z"
    }
   },
   "outputs": [],
   "source": [
    "restricted_feature_df.head()"
   ]
  },
  {
   "cell_type": "code",
   "execution_count": null,
   "metadata": {
    "ExecuteTime": {
     "end_time": "2023-11-14T18:07:14.408054Z",
     "start_time": "2023-11-14T18:07:14.049338Z"
    }
   },
   "outputs": [],
   "source": [
    "restricted_feature_df[restricted_feature_df.value.isna()].sample_label.unique()\n"
   ]
  },
  {
   "cell_type": "code",
   "execution_count": null,
   "metadata": {
    "ExecuteTime": {
     "end_time": "2023-11-14T18:07:14.679673Z",
     "start_time": "2023-11-14T18:07:14.341860Z"
    }
   },
   "outputs": [],
   "source": [
    "restricted_feature_df.case_admission_id.nunique()"
   ]
  },
  {
   "cell_type": "code",
   "execution_count": null,
   "metadata": {
    "ExecuteTime": {
     "end_time": "2023-11-14T18:07:43.441266Z",
     "start_time": "2023-11-14T18:07:14.800754Z"
    }
   },
   "outputs": [],
   "source": [
    "# 7. Encoding categorical variables (one-hot)\n",
    "print('ENCODING CATEGORICAL VARIABLES')\n",
    "cat_encoded_restricted_feature_df = encode_categorical_variables(restricted_feature_df, verbose=verbose,\n",
    "                                                                 log_dir=log_dir)"
   ]
  },
  {
   "cell_type": "code",
   "execution_count": null,
   "metadata": {
    "ExecuteTime": {
     "end_time": "2023-11-14T18:07:43.470068Z",
     "start_time": "2023-11-14T18:07:43.440524Z"
    }
   },
   "outputs": [],
   "source": [
    "cat_encoded_restricted_feature_df.head()"
   ]
  },
  {
   "cell_type": "code",
   "execution_count": null,
   "metadata": {
    "ExecuteTime": {
     "end_time": "2023-11-14T18:07:43.713354Z",
     "start_time": "2023-11-14T18:07:43.574710Z"
    }
   },
   "outputs": [],
   "source": [
    "cat_encoded_restricted_feature_df[cat_encoded_restricted_feature_df.value.isna()].sample_label.unique()\n"
   ]
  },
  {
   "cell_type": "code",
   "execution_count": null,
   "metadata": {
    "ExecuteTime": {
     "end_time": "2023-11-14T18:07:44.053728Z",
     "start_time": "2023-11-14T18:07:43.673800Z"
    }
   },
   "outputs": [],
   "source": [
    "cat_encoded_restricted_feature_df.case_admission_id.nunique()"
   ]
  },
  {
   "cell_type": "code",
   "execution_count": null,
   "metadata": {
    "ExecuteTime": {
     "end_time": "2023-11-14T18:13:15.335940Z",
     "start_time": "2023-11-14T18:07:44.011422Z"
    }
   },
   "outputs": [],
   "source": [
    "# 8. Resampling to hourly frequency\n",
    "print('RESAMPLING TO HOURLY FREQUENCY')\n",
    "resampled_df = resample_to_hourly_features(cat_encoded_restricted_feature_df, verbose=verbose)\n",
    "print(f'D. Number of patients: {resampled_df.case_admission_id.nunique()}')"
   ]
  },
  {
   "cell_type": "code",
   "execution_count": null,
   "metadata": {
    "ExecuteTime": {
     "end_time": "2023-11-14T18:13:15.357929Z",
     "start_time": "2023-11-14T18:13:15.340128Z"
    }
   },
   "outputs": [],
   "source": [
    "resampled_df.head()"
   ]
  },
  {
   "cell_type": "code",
   "execution_count": null,
   "metadata": {
    "ExecuteTime": {
     "end_time": "2023-11-14T18:13:15.548784Z",
     "start_time": "2023-11-14T18:13:15.408541Z"
    }
   },
   "outputs": [],
   "source": [
    "resampled_df[resampled_df.value.isna()].sample_label.unique()\n"
   ]
  },
  {
   "cell_type": "code",
   "execution_count": null,
   "metadata": {
    "ExecuteTime": {
     "end_time": "2023-11-14T18:13:15.655555Z",
     "start_time": "2023-11-14T18:13:15.520548Z"
    }
   },
   "outputs": [],
   "source": [
    "resampled_df.case_admission_id.nunique()"
   ]
  },
  {
   "cell_type": "code",
   "execution_count": null,
   "metadata": {
    "ExecuteTime": {
     "end_time": "2023-11-15T07:06:14.309521Z",
     "start_time": "2023-11-15T06:59:49.877195Z"
    }
   },
   "outputs": [],
   "source": [
    "# 9. imputation of missing values\n",
    "print('IMPUTING MISSING VALUES')\n",
    "imputed_missing_df = impute_missing_values(resampled_df, verbose=verbose)\n",
    "print(f'E. Number of patients: {imputed_missing_df.case_admission_id.nunique()}')"
   ]
  },
  {
   "cell_type": "code",
   "execution_count": null,
   "metadata": {
    "ExecuteTime": {
     "end_time": "2023-11-15T07:08:37.816877Z",
     "start_time": "2023-11-15T07:08:37.767756Z"
    }
   },
   "outputs": [],
   "source": [
    "imputed_missing_df.head()"
   ]
  },
  {
   "cell_type": "code",
   "execution_count": null,
   "metadata": {
    "ExecuteTime": {
     "end_time": "2023-11-15T07:10:42.518045Z",
     "start_time": "2023-11-15T07:10:42.454922Z"
    }
   },
   "outputs": [],
   "source": [
    "imputed_missing_df[imputed_missing_df.value.isna()]"
   ]
  },
  {
   "cell_type": "code",
   "execution_count": null,
   "metadata": {
    "ExecuteTime": {
     "end_time": "2023-11-15T07:10:47.194938Z",
     "start_time": "2023-11-15T07:10:46.828307Z"
    }
   },
   "outputs": [],
   "source": [
    "imputed_missing_df.case_admission_id.nunique()"
   ]
  },
  {
   "cell_type": "code",
   "execution_count": null,
   "metadata": {
    "ExecuteTime": {
     "end_time": "2023-11-15T07:37:28.688358Z",
     "start_time": "2023-11-15T07:35:24.087822Z"
    }
   },
   "outputs": [],
   "source": [
    "# 10. normalisation\n",
    "print('APPLYING NORMALISATION')\n",
    "winsorize = False\n",
    "normalised_df = normalise_data(imputed_missing_df, verbose=verbose, log_dir=log_dir, winsorize=winsorize)\n",
    "print(f'F. Number of patients: {normalised_df.case_admission_id.nunique()}')"
   ]
  },
  {
   "cell_type": "code",
   "execution_count": null,
   "metadata": {
    "ExecuteTime": {
     "end_time": "2023-11-15T07:42:06.973387Z",
     "start_time": "2023-11-15T07:42:06.909320Z"
    }
   },
   "outputs": [],
   "source": [
    "normalised_df.head(1000)"
   ]
  },
  {
   "cell_type": "code",
   "execution_count": null,
   "metadata": {
    "ExecuteTime": {
     "end_time": "2023-11-15T07:42:18.153011Z",
     "start_time": "2023-11-15T07:42:18.023209Z"
    }
   },
   "outputs": [],
   "source": [
    "normalised_df[normalised_df.value.isna()].sample_label.unique()"
   ]
  },
  {
   "cell_type": "code",
   "execution_count": null,
   "metadata": {
    "ExecuteTime": {
     "end_time": "2023-11-15T07:59:49.052692Z",
     "start_time": "2023-11-15T07:59:48.655305Z"
    }
   },
   "outputs": [],
   "source": [
    "len(normalised_df.case_admission_id.unique())"
   ]
  },
  {
   "cell_type": "code",
   "execution_count": null,
   "metadata": {
    "ExecuteTime": {
     "end_time": "2023-11-15T08:00:17.545784Z",
     "start_time": "2023-11-15T08:00:16.997641Z"
    }
   },
   "outputs": [],
   "source": [
    "normalised_df.sample_label.unique()"
   ]
  },
  {
   "cell_type": "code",
   "execution_count": null,
   "metadata": {},
   "outputs": [],
   "source": [
    "imputed_missing_df[imputed_missing_df.sample_label == 'max_heart_rate'].describe()"
   ]
  },
  {
   "cell_type": "code",
   "execution_count": null,
   "metadata": {
    "ExecuteTime": {
     "end_time": "2023-11-15T08:38:30.664258Z",
     "start_time": "2023-11-15T08:07:36.196631Z"
    }
   },
   "outputs": [],
   "source": [
    "from preprocessing_tools.preprocessing_verification.variable_presence_verification import variable_presence_verification\n",
    "\n",
    "target_feature_path = '/Users/jk1/temp/treatment_effects/target_feature_order.xlsx'\n",
    "desired_time_range = 72\n",
    "\n",
    "# verification of geneva_stroke_unit_preprocessing\n",
    "variable_presence_verification(imputed_missing_df,\n",
    "                                target_feature_path=target_feature_path,\n",
    "                               selected_variables_path=variable_selection_path,\n",
    "                               desired_time_range=desired_time_range)"
   ]
  },
  {
   "cell_type": "code",
   "execution_count": null,
   "metadata": {},
   "outputs": [],
   "source": []
  }
 ],
 "metadata": {
  "kernelspec": {
   "display_name": "Python 3",
   "language": "python",
   "name": "python3"
  },
  "language_info": {
   "codemirror_mode": {
    "name": "ipython",
    "version": 2
   },
   "file_extension": ".py",
   "mimetype": "text/x-python",
   "name": "python",
   "nbconvert_exporter": "python",
   "pygments_lexer": "ipython2",
   "version": "2.7.6"
  }
 },
 "nbformat": 4,
 "nbformat_minor": 0
}
