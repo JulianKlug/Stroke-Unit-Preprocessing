{
 "cells": [
  {
   "cell_type": "markdown",
   "id": "fde915528696afed",
   "metadata": {
    "collapsed": false
   },
   "source": [
    "# Extracting early neurologic deterioriation\n",
    "Def: Rise in NIHSS of min 2 or 4 points in the first 72h"
   ]
  },
  {
   "cell_type": "code",
   "execution_count": null,
   "id": "a08729446ef2c837",
   "metadata": {
    "ExecuteTime": {
     "end_time": "2023-11-15T09:07:06.344308Z",
     "start_time": "2023-11-15T09:07:06.329062Z"
    }
   },
   "outputs": [],
   "source": [
    "import pandas as pd\n",
    "import pickle\n",
    "import seaborn as sns\n",
    "import matplotlib.pyplot as plt"
   ]
  },
  {
   "cell_type": "code",
   "execution_count": null,
   "id": "initial_id",
   "metadata": {
    "ExecuteTime": {
     "end_time": "2023-11-15T08:58:56.680919Z",
     "start_time": "2023-11-15T08:58:56.649369Z"
    }
   },
   "outputs": [],
   "source": [
    "imputed_missing_df_path = '/Users/jk1/temp/treatment_effects/imputed_missing_df.pkl'"
   ]
  },
  {
   "cell_type": "code",
   "execution_count": null,
   "id": "d23d5af5b3ad4ec0",
   "metadata": {
    "ExecuteTime": {
     "end_time": "2023-11-15T08:59:09.381269Z",
     "start_time": "2023-11-15T08:59:00.329382Z"
    }
   },
   "outputs": [],
   "source": [
    "with open(imputed_missing_df_path, 'rb') as f:\n",
    "    imputed_missing_df = pickle.load(f)"
   ]
  },
  {
   "cell_type": "code",
   "execution_count": null,
   "id": "d4082f4c2f5f5629",
   "metadata": {
    "ExecuteTime": {
     "end_time": "2023-11-15T09:05:25.982957Z",
     "start_time": "2023-11-15T09:05:25.577920Z"
    }
   },
   "outputs": [],
   "source": [
    "imputed_missing_df.case_admission_id.unique()"
   ]
  },
  {
   "cell_type": "code",
   "execution_count": null,
   "id": "824fb973253c515b",
   "metadata": {},
   "outputs": [],
   "source": [
    "# plot value for NIHSS sample_label over realive_sample_date_hourly_cat\n",
    "for cid in imputed_missing_df.case_admission_id.unique():\n",
    "    temp = imputed_missing_df[(imputed_missing_df.sample_label == 'median_NIHSS') & (imputed_missing_df.case_admission_id == cid)]\n",
    "    ax = sns.scatterplot(x='relative_sample_date_hourly_cat', y='value', data=temp)\n",
    "    ax.set_title(cid)\n",
    "    ax.set_ylim(0, 42)\n",
    "    plt.show()"
   ]
  },
  {
   "cell_type": "code",
   "execution_count": null,
   "id": "91ad3d96b22b687b",
   "metadata": {
    "ExecuteTime": {
     "end_time": "2023-11-15T10:29:27.424763Z",
     "start_time": "2023-11-15T10:29:25.794255Z"
    }
   },
   "outputs": [],
   "source": [
    "end_df = imputed_missing_df[(imputed_missing_df.sample_label == 'median_NIHSS')]"
   ]
  },
  {
   "cell_type": "code",
   "execution_count": null,
   "id": "f90bc037e12f3bd8",
   "metadata": {
    "ExecuteTime": {
     "end_time": "2023-11-15T10:29:28.449955Z",
     "start_time": "2023-11-15T10:29:28.281096Z"
    }
   },
   "outputs": [],
   "source": [
    "# verify that relative_sample_date_hourly_cat is sorted\n",
    "assert end_df.groupby('case_admission_id')['relative_sample_date_hourly_cat'].is_monotonic_increasing.all()"
   ]
  },
  {
   "cell_type": "code",
   "execution_count": null,
   "id": "6035a0db5a9f7356",
   "metadata": {
    "ExecuteTime": {
     "end_time": "2023-11-15T10:29:29.571793Z",
     "start_time": "2023-11-15T10:29:29.517704Z"
    }
   },
   "outputs": [],
   "source": [
    "# for every case_admission_id / timebin combination, substract previous value from current value\n",
    "end_df['delta'] = end_df.groupby(['case_admission_id'])['value'].diff()\n",
    "end_df['delta'] = end_df['delta'].fillna(0)"
   ]
  },
  {
   "cell_type": "code",
   "execution_count": null,
   "id": "80dd8050f81e1a02",
   "metadata": {
    "ExecuteTime": {
     "end_time": "2023-11-15T10:29:30.472203Z",
     "start_time": "2023-11-15T10:29:30.451249Z"
    }
   },
   "outputs": [],
   "source": [
    "# minimum up to current timebin\n",
    "end_df['best_prior_state'] = end_df.groupby(['case_admission_id'])['value'].cummin()\n",
    "end_df['delta_to_best_prior_state'] = end_df['value'] - end_df['best_prior_state']"
   ]
  },
  {
   "cell_type": "code",
   "execution_count": null,
   "id": "88e633703887aa58",
   "metadata": {
    "ExecuteTime": {
     "end_time": "2023-11-15T10:29:37.548191Z",
     "start_time": "2023-11-15T10:29:37.378855Z"
    }
   },
   "outputs": [],
   "source": [
    "end_df['start_state'] = end_df.groupby(['case_admission_id'])['value'].transform('first')\n",
    "end_df['delta_to_start_state'] = end_df['value'] - end_df['start_state']"
   ]
  },
  {
   "cell_type": "code",
   "execution_count": null,
   "id": "503d1dc82a00094c",
   "metadata": {
    "ExecuteTime": {
     "end_time": "2023-11-16T08:18:57.157078Z",
     "start_time": "2023-11-16T08:18:56.875940Z"
    }
   },
   "outputs": [],
   "source": [
    "end_df['delta_at_next_ts'] = end_df.groupby(['case_admission_id'])['delta'].shift(-1)\n",
    "end_df['delta_to_best_prior_state_at_next_ts'] = end_df.groupby(['case_admission_id'])['delta_to_best_prior_state'].shift(-1)\n",
    "end_df['delta_to_start_state_at_next_ts'] = end_df.groupby(['case_admission_id'])['delta_to_start_state'].shift(-1)"
   ]
  },
  {
   "cell_type": "code",
   "execution_count": null,
   "id": "5556a1c4046867d0",
   "metadata": {
    "ExecuteTime": {
     "end_time": "2023-11-16T08:20:08.960993Z",
     "start_time": "2023-11-16T08:20:07.865606Z"
    }
   },
   "outputs": [],
   "source": [
    "# plot value, delta, delta_to_best_prior_state and delta_to_start_state over relative_sample_date_hourly_cat\n",
    "\n",
    "temp = end_df[end_df.case_admission_id == '1005798_9217']\n",
    "\n",
    "fig, ax = plt.subplots(4, 1, figsize=(10, 10))\n",
    "sns.scatterplot(x='relative_sample_date_hourly_cat', y='value', data=temp, ax=ax[0], color='blue')\n",
    "\n",
    "sns.scatterplot(x='relative_sample_date_hourly_cat', y='delta', data=temp, ax=ax[1], color='red', alpha=0.5)\n",
    "sns.lineplot(x='relative_sample_date_hourly_cat', y='delta_at_next_ts', data=temp, ax=ax[1], color='pink', alpha=0.5)\n",
    "sns.scatterplot(x='relative_sample_date_hourly_cat', y='delta_to_best_prior_state', data=temp, ax=ax[2], color='green')\n",
    "sns.scatterplot(x='relative_sample_date_hourly_cat', y='delta_to_start_state', data=temp, ax=ax[3], color='orange')\n"
   ]
  },
  {
   "cell_type": "code",
   "execution_count": null,
   "id": "ce82dfa2970f931f",
   "metadata": {
    "ExecuteTime": {
     "end_time": "2023-11-16T08:59:52.578003Z",
     "start_time": "2023-11-16T08:59:52.557815Z"
    }
   },
   "outputs": [],
   "source": [
    "end_df['end_at_next_ts'] = (end_df['delta_to_start_state_at_next_ts'] >= 2).astype(int)\n",
    "end_df['end'] = (end_df['delta_to_start_state'] >= 2).astype(int)"
   ]
  },
  {
   "cell_type": "code",
   "execution_count": null,
   "id": "8435be201fe4c470",
   "metadata": {
    "ExecuteTime": {
     "end_time": "2023-11-16T08:59:54.417957Z",
     "start_time": "2023-11-16T08:59:54.405055Z"
    }
   },
   "outputs": [],
   "source": [
    "end_df"
   ]
  },
  {
   "cell_type": "code",
   "execution_count": null,
   "id": "7d1844c72c379017",
   "metadata": {},
   "outputs": [],
   "source": []
  }
 ],
 "metadata": {
  "kernelspec": {
   "display_name": "Python 3",
   "language": "python",
   "name": "python3"
  },
  "language_info": {
   "codemirror_mode": {
    "name": "ipython",
    "version": 2
   },
   "file_extension": ".py",
   "mimetype": "text/x-python",
   "name": "python",
   "nbconvert_exporter": "python",
   "pygments_lexer": "ipython2",
   "version": "2.7.6"
  }
 },
 "nbformat": 4,
 "nbformat_minor": 5
}
