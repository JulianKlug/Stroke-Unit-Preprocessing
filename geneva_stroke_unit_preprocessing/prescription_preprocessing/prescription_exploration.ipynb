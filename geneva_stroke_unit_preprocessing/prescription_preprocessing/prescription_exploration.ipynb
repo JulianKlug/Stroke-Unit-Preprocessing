{
 "cells": [
  {
   "cell_type": "code",
   "execution_count": null,
   "id": "initial_id",
   "metadata": {
    "ExecuteTime": {
     "end_time": "2023-11-13T11:14:40.695160Z",
     "start_time": "2023-11-13T11:14:40.626162Z"
    }
   },
   "outputs": [],
   "source": [
    "import pandas as pd\n",
    "import os\n",
    "import numpy as np\n",
    "from tqdm import tqdm\n",
    "import re\n",
    "from geneva_stroke_unit_preprocessing.utils import create_ehr_case_identification_column"
   ]
  },
  {
   "cell_type": "code",
   "execution_count": null,
   "id": "85f740c924db54d8",
   "metadata": {
    "ExecuteTime": {
     "end_time": "2023-11-13T10:54:56.162679Z",
     "start_time": "2023-11-13T10:54:55.479112Z"
    }
   },
   "outputs": [],
   "source": [
    "data_path = '/Users/jk1/stroke_datasets/stroke_unit_dataset/per_value/Extraction_20220815'\n",
    "drugs_file_start = 'prescription'"
   ]
  },
  {
   "cell_type": "code",
   "execution_count": null,
   "id": "bfc4717ff4dd4105",
   "metadata": {
    "ExecuteTime": {
     "end_time": "2023-11-13T10:54:58.337170Z",
     "start_time": "2023-11-13T10:54:55.482998Z"
    }
   },
   "outputs": [],
   "source": [
    "drugs_files = [pd.read_csv(os.path.join(data_path, f), delimiter=';', encoding='utf-8')\n",
    "               for f in os.listdir(data_path)\n",
    "               if f.startswith(drugs_file_start)]"
   ]
  },
  {
   "cell_type": "code",
   "execution_count": null,
   "id": "ce0ed9d70caf7b84",
   "metadata": {
    "ExecuteTime": {
     "end_time": "2023-11-13T10:54:58.338318Z",
     "start_time": "2023-11-13T10:54:57.849899Z"
    }
   },
   "outputs": [],
   "source": [
    "prescription_df = pd.concat(drugs_files, ignore_index=True)"
   ]
  },
  {
   "cell_type": "code",
   "execution_count": null,
   "id": "d2bea1e67ba2730e",
   "metadata": {
    "ExecuteTime": {
     "end_time": "2023-11-13T10:54:58.339026Z",
     "start_time": "2023-11-13T10:54:58.055493Z"
    }
   },
   "outputs": [],
   "source": [
    "prescription_df['case_admission_id'] = create_ehr_case_identification_column(prescription_df)"
   ]
  },
  {
   "cell_type": "code",
   "execution_count": null,
   "id": "95c812b1ff821d3c",
   "metadata": {
    "ExecuteTime": {
     "end_time": "2023-11-13T10:54:58.348309Z",
     "start_time": "2023-11-13T10:54:58.212233Z"
    }
   },
   "outputs": [],
   "source": [
    "columns_to_drop = ['nr', 'patient_id', 'eds_end_4digit', 'eds_manual', 'DOB', 'begin_date',\n",
    "                   'end_date', 'death_date', 'death_hosp', 'eds_final_id',\n",
    "                   'eds_final_begin', 'eds_final_end', 'eds_final_patient_id',\n",
    "                   'eds_final_birth', 'eds_final_death', 'eds_final_birth_str',\n",
    "                   'date_from', 'date_to']\n",
    "prescription_df.drop(columns_to_drop, axis=1, inplace=True)"
   ]
  },
  {
   "cell_type": "code",
   "execution_count": null,
   "id": "ae9244e47f6f38e0",
   "metadata": {
    "ExecuteTime": {
     "end_time": "2023-11-13T10:54:58.349460Z",
     "start_time": "2023-11-13T10:54:58.317302Z"
    }
   },
   "outputs": [],
   "source": [
    "prescription_df.head()"
   ]
  },
  {
   "cell_type": "code",
   "execution_count": null,
   "id": "d656fc9420dff473",
   "metadata": {
    "ExecuteTime": {
     "end_time": "2023-11-13T10:54:58.571800Z",
     "start_time": "2023-11-13T10:54:58.347784Z"
    }
   },
   "outputs": [],
   "source": [
    "# find all drugs with \"mmHg\" in the column long_name\n",
    "prescription_df[prescription_df.long_name.str.contains('mmHg') == True].long_name.value_counts()"
   ]
  },
  {
   "cell_type": "code",
   "execution_count": null,
   "id": "f5d34f8204e0c828",
   "metadata": {
    "ExecuteTime": {
     "end_time": "2023-11-13T10:54:58.807411Z",
     "start_time": "2023-11-13T10:54:58.532923Z"
    }
   },
   "outputs": [],
   "source": [
    "prescription_df[prescription_df.long_name.str.contains('mmHg') == True]"
   ]
  },
  {
   "cell_type": "code",
   "execution_count": null,
   "id": "1b39ca2c5c3b6d44",
   "metadata": {
    "ExecuteTime": {
     "end_time": "2023-11-13T10:54:58.841557Z",
     "start_time": "2023-11-13T10:54:58.621157Z"
    }
   },
   "outputs": [],
   "source": [
    "prescription_df[prescription_df.frequency_label == \"ordre unique\"]"
   ]
  },
  {
   "cell_type": "markdown",
   "id": "f784705b57f1fc12",
   "metadata": {
    "collapsed": false
   },
   "source": [
    "# Identify BP strategies\n",
    "\n",
    "1. identify prescriptions related to BP strategies\n",
    "2. identify targeted variable: TAM / TAS / TA (TAS + TAD)\n",
    "3. identify targeted value: X mmHg\n",
    "4. identify condition: target range, vs intervention threshold"
   ]
  },
  {
   "cell_type": "markdown",
   "id": "89d31b339bc19cd9",
   "metadata": {
    "collapsed": false
   },
   "source": [
    "## 1. identify prescriptions related to BP strategies\n",
    "\n",
    "- find BP goal identifiers in long_name\n",
    "- find meds given en reserve"
   ]
  },
  {
   "cell_type": "code",
   "execution_count": null,
   "id": "e952edbc9f97a749",
   "metadata": {
    "ExecuteTime": {
     "end_time": "2023-11-13T10:54:58.842128Z",
     "start_time": "2023-11-13T10:54:58.656097Z"
    }
   },
   "outputs": [],
   "source": [
    "mmHg_equivalents = ['mmHg', 'mm Hg', 'mmg Hg', 'mmhHg', 'mHg']\n",
    "mmHg_equivalents_upper = [s.upper() for s in mmHg_equivalents]\n",
    "\n",
    "bp_goal_identifiers = [' TAM ', ' TAS ', ' TA '] + mmHg_equivalents\n",
    "bp_goal_identifiers_upper = [s.upper() for s in bp_goal_identifiers]"
   ]
  },
  {
   "cell_type": "code",
   "execution_count": null,
   "id": "1ff1e972a2562d04",
   "metadata": {
    "ExecuteTime": {
     "end_time": "2023-11-13T10:54:59.342135Z",
     "start_time": "2023-11-13T10:54:58.680413Z"
    }
   },
   "outputs": [],
   "source": [
    "prescription_df[(prescription_df.long_name.str.upper().str.contains('|'.join(bp_goal_identifiers).upper()) == True)].long_name.value_counts()"
   ]
  },
  {
   "cell_type": "markdown",
   "id": "c75fda11354a7975",
   "metadata": {
    "collapsed": false
   },
   "source": [
    "Notes: condition is delimited by <b> and </b> and contains bp_goal_identifiers"
   ]
  },
  {
   "cell_type": "code",
   "execution_count": null,
   "id": "7474120e02447955",
   "metadata": {
    "ExecuteTime": {
     "end_time": "2023-11-13T10:55:00.203565Z",
     "start_time": "2023-11-13T10:54:59.356886Z"
    }
   },
   "outputs": [],
   "source": [
    "long_name_parts = prescription_df[(prescription_df.long_name.str.upper().str.contains('|'.join(bp_goal_identifiers).upper()) == True)].long_name.str.upper().str.split('<B>')"
   ]
  },
  {
   "cell_type": "code",
   "execution_count": null,
   "id": "85b101884b35207c",
   "metadata": {
    "ExecuteTime": {
     "end_time": "2023-11-13T10:55:00.978438Z",
     "start_time": "2023-11-13T10:55:00.222143Z"
    }
   },
   "outputs": [],
   "source": [
    "bp_prescriptions_name_and_date_df = prescription_df[(prescription_df.long_name.str.upper().str.contains('|'.join(bp_goal_identifiers).upper()) == True)][['case_admission_id','short_name', 'start_date', 'end_date.1', 'stop_date']]"
   ]
  },
  {
   "cell_type": "code",
   "execution_count": null,
   "id": "2c64dc1ff8e56295",
   "metadata": {
    "ExecuteTime": {
     "end_time": "2023-11-13T10:55:00.978834Z",
     "start_time": "2023-11-13T10:55:00.935648Z"
    }
   },
   "outputs": [],
   "source": [
    "def find_element_with_string_in_list(main_list, search_strings):\n",
    "    for element in main_list:\n",
    "        for search_string in search_strings:\n",
    "            if search_string in element:\n",
    "                return element\n",
    "    return None"
   ]
  },
  {
   "cell_type": "code",
   "execution_count": null,
   "id": "2c891510fb29c8aa",
   "metadata": {
    "ExecuteTime": {
     "end_time": "2023-11-13T10:55:01.047471Z",
     "start_time": "2023-11-13T10:55:00.961330Z"
    }
   },
   "outputs": [],
   "source": [
    "# select the long_name_parts containing a string containg bp_goal_identifiers (upper case)\n",
    "conditions = long_name_parts.apply(lambda x: find_element_with_string_in_list(x, bp_goal_identifiers_upper))"
   ]
  },
  {
   "cell_type": "code",
   "execution_count": null,
   "id": "907e94af738c468b",
   "metadata": {
    "ExecuteTime": {
     "end_time": "2023-11-13T10:55:01.086178Z",
     "start_time": "2023-11-13T10:55:01.006061Z"
    }
   },
   "outputs": [],
   "source": [
    "conditions"
   ]
  },
  {
   "cell_type": "markdown",
   "id": "cdf07df46f301a24",
   "metadata": {
    "collapsed": false
   },
   "source": [
    "## 2. identify targeted variable: TAM / TAS / TA (TAS/TAD)"
   ]
  },
  {
   "cell_type": "code",
   "execution_count": null,
   "id": "31845d432cf43d90",
   "metadata": {
    "ExecuteTime": {
     "end_time": "2023-11-13T10:55:01.086677Z",
     "start_time": "2023-11-13T10:55:01.028111Z"
    }
   },
   "outputs": [],
   "source": [
    "def target_variable_identification_scheme(condition):\n",
    "    start_regex = '(?:^| |>|&GT|\\(|,)'\n",
    "    end_regex = '(?= |$|>|<|&GT|&LT|&NBSP|\\)|1|,)'\n",
    "    if condition is None:\n",
    "        return None\n",
    "    \n",
    "    # if ' TAM' followed by a space or a > or a < or the end of the string\n",
    "    TAM_equivalents = ['TAM', 'TENSION ARTÉRIELLE MOYENNE', 'PAM', 'TAMOYENNE', 'TENSION MOYENNE', 'TASM', 'TSAM', 'TA M']\n",
    "    TAM_rgx = rf'{start_regex}({\"|\".join(TAM_equivalents)}){end_regex}'\n",
    "    if re.search(TAM_rgx, condition) is not None:\n",
    "        return 'TAM'\n",
    "    \n",
    "    # if a number in this format XXX/XX or XXX/XXX is given, return 'TA'\n",
    "    if re.search(r'\\d{2,3}/\\d{2,3}', condition) is not None:\n",
    "        return 'TA'\n",
    "    \n",
    "    TAS_equivalents = ['TAS', 'TENSION ARTÉRIELLE SYSTOLIQUE', 'PAS', 'TASYS', 'SISOTLIQUE', 'TENSION SYSTOLIQUE', \n",
    "                       'TASYSTOLIQUE', 'SYSTOLIQUE', 'HTAS', 'SYSTOLE', 'SISTOLIQUE', 'SISTOLE', 'SYSTOLES']\n",
    "    TAS_rgx = rf'{start_regex}({\"|\".join(TAS_equivalents)}){end_regex}'\n",
    "    if re.search(TAS_rgx, condition) is not None:\n",
    "        return 'TAS'\n",
    "    \n",
    "    # if only one value provided for target, use as TAS (two variable target interpreted as TA above)\n",
    "    TA_equivalents = ['TA', 'PA']\n",
    "    TAS_rgx = rf'{start_regex}({\"|\".join(TA_equivalents)}){end_regex}'\n",
    "    if re.search(TAS_rgx, condition) is not None:\n",
    "        return 'TAS'\n",
    "    \n",
    "    # if there is a single 2 or 3 digit number, if number > 110, return 'TAS', else return 'TAM'\n",
    "    target_pressure_matches = re.findall(r'\\d{2,3}', condition)\n",
    "    if len(target_pressure_matches) > 0:\n",
    "        # take the first number found (because no better rule yet)\n",
    "        if int(target_pressure_matches[0]) > 110:\n",
    "            return 'TAS'\n",
    "        else:\n",
    "            return 'TAM'\n",
    "    \n",
    "    else:\n",
    "        return \"unknown\"\n",
    "    "
   ]
  },
  {
   "cell_type": "code",
   "execution_count": null,
   "id": "4767a41d5868a5b8",
   "metadata": {
    "ExecuteTime": {
     "end_time": "2023-11-13T10:55:01.138927Z",
     "start_time": "2023-11-13T10:55:01.078595Z"
    }
   },
   "outputs": [],
   "source": [
    "target_variables = conditions.apply(lambda x: target_variable_identification_scheme(x))"
   ]
  },
  {
   "cell_type": "code",
   "execution_count": null,
   "id": "8255debce2aa5754",
   "metadata": {
    "ExecuteTime": {
     "end_time": "2023-11-13T10:55:01.177496Z",
     "start_time": "2023-11-13T10:55:01.103080Z"
    }
   },
   "outputs": [],
   "source": [
    "target_variables.value_counts()"
   ]
  },
  {
   "cell_type": "code",
   "execution_count": null,
   "id": "a93f501363b8db22",
   "metadata": {
    "ExecuteTime": {
     "end_time": "2023-11-13T10:55:01.526191Z",
     "start_time": "2023-11-13T10:55:01.112418Z"
    }
   },
   "outputs": [],
   "source": [
    "pd.DataFrame([conditions, target_variables]).T"
   ]
  },
  {
   "cell_type": "markdown",
   "id": "714816411b3d5e1f",
   "metadata": {
    "collapsed": false
   },
   "source": [
    "## 3. identify targeted value: X mmHg"
   ]
  },
  {
   "cell_type": "code",
   "execution_count": null,
   "id": "f242b4378c0166d7",
   "metadata": {
    "ExecuteTime": {
     "end_time": "2023-11-13T10:55:01.590861Z",
     "start_time": "2023-11-13T10:55:01.532593Z"
    }
   },
   "outputs": [],
   "source": [
    "def target_value_identification_scheme(condition):\n",
    "    if condition is None:\n",
    "        return None\n",
    "    \n",
    "    # patch common mistypings\n",
    "    condition = condition.replace('1600', '160')\n",
    "    condition = condition.replace('2201', '220')\n",
    "    condition = condition.replace('1140', '140')\n",
    "    condition = condition.replace('995', '95')\n",
    "    condition = condition.replace('22O', '220')\n",
    "    \n",
    "    # if there is a pattern such as XXX/XXX [mmHg equivalent] or XXX/XX [mmHg equivalent] (with or without spaces)\n",
    "    # return the two numbers\n",
    "    mmHg_equivalents_rgx = \"|\".join(mmHg_equivalents_upper)\n",
    "    target_pressure_matches = re.search(rf'(\\d{{2,3}})/(\\d{{2,3}})( |)({mmHg_equivalents_rgx})', condition)\n",
    "    if target_pressure_matches is not None:\n",
    "        target_pressure_string = re.search(r'(\\d{2,3})/(\\d{2,3})', target_pressure_matches[0])\n",
    "        if target_pressure_string is not None:\n",
    "            return target_pressure_string[0]\n",
    "    \n",
    "    # check for XXX/XXX or XXX/XX pattern\n",
    "    target_pressure_matches = re.findall(r'(\\d{2,4})/(\\d{2,3})', condition)\n",
    "    if len(target_pressure_matches) > 0:\n",
    "        value1 = target_pressure_matches[0][0]\n",
    "        value2 = target_pressure_matches[0][1]\n",
    "        \n",
    "        # if the first number has 4 digits, divide by 10\n",
    "        if len(value1) == 4:\n",
    "            return f'{int(value1)[:-1]}/{value2}'\n",
    "        \n",
    "        # if the second number > first number, swap\n",
    "        if int(value2) > int(value1):\n",
    "            temp_first = value1\n",
    "            value1 = value2\n",
    "            value2 = temp_first\n",
    "            \n",
    "        # to safeguard against other numbers presenting as XX/XX, TAS should be > 75\n",
    "        if int(value1) > 75:\n",
    "            return f'{value1}/{value2}'\n",
    "            \n",
    "        \n",
    "    # if there is a single 2 or 3 digit number, with a leading > or <, return the number (without space in between)\n",
    "    target_pressure_matches = re.findall(r'(<|<, OU =|INFÉRIEURE À|>|&GT|&LT|SUPERIEUR A|SUPÉRIEURE À|SUPÉRIEUR À|SUP À|SUP&NBSP, À| PLUS DE|>, OU =|PLUS QUE)(,|)(| |,)(| |,)(\\d{2,3})', condition)\n",
    "    # filter > pertaining to B> or I>\n",
    "    target_pressure_matches = [m for m in target_pressure_matches \n",
    "                               if not (m[0] == '>' and \n",
    "                                  (condition.split(''.join(m))[0][-1] == 'I'\n",
    "                                   or condition.split(''.join(m))[0][-1] == 'B'))]\n",
    "    if len(target_pressure_matches) > 0:\n",
    "        # take the first number found (because no better rule yet)\n",
    "        if int(target_pressure_matches[0][-1]) >= 50: \n",
    "            return target_pressure_matches[0][-1]\n",
    "\n",
    "    # identify a range\n",
    "    target_ranges_matches = re.search(rf'(\\d{{2,3}})( |)({mmHg_equivalents_rgx}|)(| )(-|ET|ET <,|ET &LT,|AU MAXIUMUM<BR>AU MIN)(| )(\\d{{2,3}})( |)({mmHg_equivalents_rgx}|)', condition)\n",
    "    if target_ranges_matches is not None:\n",
    "        target_range_string1 = re.search(r'(\\d{2,3})-(\\d{2,3})', target_ranges_matches[0])\n",
    "        if target_range_string1 is not None:\n",
    "            return target_range_string1[0]\n",
    "        target_range_string2 = re.findall(r'(\\d{2,3})', target_ranges_matches[0])\n",
    "        if len(target_range_string2) > 0:\n",
    "            if (int(target_range_string2[1]) > int(target_range_string2[0]))\\\n",
    "                    and (int(target_range_string2[1]) > 65):\n",
    "                return f'{target_range_string2[0]}-{target_range_string2[1]}'\n",
    "            elif int(target_range_string2[0]) > 65:\n",
    "                return f'{target_range_string2[1]}-{target_range_string2[0]}'\n",
    "\n",
    "    \n",
    "    # if there is a single 2 or 3 digit number\n",
    "    target_pressure_matches = re.findall(r'\\d{2,3}', condition)\n",
    "    if len(target_pressure_matches) > 0:\n",
    "        # take the first number found (because no better rule yet)\n",
    "        \n",
    "        # excluded instances where match is followed by 'MG'\n",
    "        rest_condition = condition.split(target_pressure_matches[0])[-1]\n",
    "        if rest_condition.startswith('MG') or rest_condition.startswith(' MG'):\n",
    "            return \"unknown\"\n",
    "        \n",
    "        if int(target_pressure_matches[0]) > 50:\n",
    "            return target_pressure_matches[0]\n",
    "    \n",
    "  \n",
    "    return \"unknown\""
   ]
  },
  {
   "cell_type": "code",
   "execution_count": null,
   "id": "46ff5c00355be1ef",
   "metadata": {
    "ExecuteTime": {
     "end_time": "2023-11-13T10:55:01.771264Z",
     "start_time": "2023-11-13T10:55:01.546555Z"
    }
   },
   "outputs": [],
   "source": [
    "target_values = conditions.apply(lambda x: target_value_identification_scheme(x))\n"
   ]
  },
  {
   "cell_type": "code",
   "execution_count": null,
   "id": "e6b7d8ae58a7e29d",
   "metadata": {
    "ExecuteTime": {
     "end_time": "2023-11-13T10:55:01.805692Z",
     "start_time": "2023-11-13T10:55:01.679103Z"
    }
   },
   "outputs": [],
   "source": [
    "target_values.value_counts()"
   ]
  },
  {
   "cell_type": "code",
   "execution_count": null,
   "id": "a73193fad5254fd3",
   "metadata": {
    "ExecuteTime": {
     "end_time": "2023-11-13T10:55:02.033068Z",
     "start_time": "2023-11-13T10:55:01.685260Z"
    }
   },
   "outputs": [],
   "source": [
    "pd.DataFrame([conditions, target_variables, target_values]).T"
   ]
  },
  {
   "cell_type": "markdown",
   "id": "5c546e7ccd3baa5e",
   "metadata": {
    "collapsed": false
   },
   "source": [
    "## 4. identify condition: > / < / range (-)"
   ]
  },
  {
   "cell_type": "code",
   "execution_count": null,
   "id": "2478fc52ec58248f",
   "metadata": {
    "ExecuteTime": {
     "end_time": "2023-11-13T10:55:02.055082Z",
     "start_time": "2023-11-13T10:55:02.036962Z"
    }
   },
   "outputs": [],
   "source": [
    "def target_condition_identification_scheme(condition):\n",
    "    if condition is None:\n",
    "        return None\n",
    "    \n",
    "    # identify a range\n",
    "    mmHg_equivalents_rgx = \"|\".join(mmHg_equivalents_upper)\n",
    "    target_ranges_matches = re.search(rf'(\\d{{2,3}})( |)({mmHg_equivalents_rgx}|)(| )(-|ET|ET <,|ET &LT,|AU MAXIUMUM<BR>AU MIN)(| )(\\d{{2,3}})( |)({mmHg_equivalents_rgx}|)', condition)\n",
    "    if target_ranges_matches is not None:\n",
    "        return 'range'\n",
    "           \n",
    "    # if there is a single 2 or 3 digit number, with a leading  < (or equivalent), return <\n",
    "    inferior_than_equivalents = ['<', '<, OU =', 'INFÉRIEURE À','&LT', '&LT, OU = À']\n",
    "    inferior_than_equivalents_rgx = '|'.join(inferior_than_equivalents) \n",
    "    inferior_than_matches = re.findall(rf'({inferior_than_equivalents_rgx})(,|)(| |,)(| |,)(\\d{{2,3}})', condition)\n",
    "    if len(inferior_than_matches) > 0:\n",
    "        if int(inferior_than_matches[0][-1]) >= 50: \n",
    "            return '<'\n",
    "    \n",
    "    # if there is a single 2-3 digit number, with a leading >, return > \n",
    "    superior_than_equivalents = ['>', '&GT', 'SUPERIEUR A', 'SUPÉRIEURE À', 'SUPÉRIEUR À', 'SUP À', 'SUP&NBSP, À', ' PLUS DE', '>, OU =', 'PLUS QUE', 'AU DESSUS', 'AU-DESSUS', 'SUPÉRIEURE AUX', 'SUPERIEUR À']\n",
    "    superior_than_equivalents_rgx = '|'.join(superior_than_equivalents)\n",
    "    superior_than_matches = re.findall(rf'({superior_than_equivalents_rgx})(,|)(| |,)(| |,)(\\d{{2,3}})', condition)\n",
    "    superior_than_matches = [m for m in superior_than_matches \n",
    "                               if not (m[0] == '>' and \n",
    "                                  (condition.split(''.join(m))[0][-1] == 'I'\n",
    "                                   or condition.split(''.join(m))[0][-1] == 'B'))]\n",
    "    if len(superior_than_matches) > 0:\n",
    "        if int(superior_than_matches[0][-1]) >= 50: \n",
    "            return '>'\n",
    "  \n",
    "    # identify isolated < or > \n",
    "    # remove isolated <I>, </I>, <B>, </B>, as well as I> and B>\n",
    "    to_replace = ['<I>', '</I>', '<B>', '</B>', 'I>', 'B>']\n",
    "    for r in to_replace:\n",
    "        condition = condition.replace(r, '')\n",
    "    \n",
    "    any_inferior_than_matches = re.findall(rf'({inferior_than_equivalents_rgx})', condition)\n",
    "    if len(any_inferior_than_matches) > 0:\n",
    "        return '<'\n",
    "    \n",
    "    any_superior_than_matches = re.findall(rf'({superior_than_equivalents_rgx}|MAX|EN RÉSERVE SI)', condition)\n",
    "    if len(any_superior_than_matches) > 0:\n",
    "        return '>'\n",
    "  \n",
    "    return \"unknown\""
   ]
  },
  {
   "cell_type": "code",
   "execution_count": null,
   "id": "9de4eba54c054240",
   "metadata": {
    "ExecuteTime": {
     "end_time": "2023-11-13T10:55:02.254802Z",
     "start_time": "2023-11-13T10:55:02.071086Z"
    }
   },
   "outputs": [],
   "source": [
    "target_conditions = conditions.apply(lambda x: target_condition_identification_scheme(x))\n"
   ]
  },
  {
   "cell_type": "code",
   "execution_count": null,
   "id": "68e3ac3dc66ccfcb",
   "metadata": {
    "ExecuteTime": {
     "end_time": "2023-11-13T10:55:02.255452Z",
     "start_time": "2023-11-13T10:55:02.185565Z"
    }
   },
   "outputs": [],
   "source": [
    "target_conditions.value_counts()"
   ]
  },
  {
   "cell_type": "code",
   "execution_count": null,
   "id": "b26644f28f28d6a5",
   "metadata": {
    "ExecuteTime": {
     "end_time": "2023-11-13T10:55:02.263331Z",
     "start_time": "2023-11-13T10:55:02.198878Z"
    }
   },
   "outputs": [],
   "source": [
    "conditions[target_conditions == 'unknown']"
   ]
  },
  {
   "cell_type": "code",
   "execution_count": null,
   "id": "b14643622dbe2b43",
   "metadata": {
    "ExecuteTime": {
     "end_time": "2023-11-13T10:55:02.547679Z",
     "start_time": "2023-11-13T10:55:02.208259Z"
    }
   },
   "outputs": [],
   "source": [
    "bp_targets_df = bp_prescriptions_name_and_date_df.join(pd.DataFrame([conditions, target_variables,target_conditions, target_values]).T)\n",
    "bp_targets_df.columns = ['case_admission_id', 'short_name', 'start_date', 'end_date', 'stop_date', 'condition', 'target_variable', 'target_condition', 'target_value']"
   ]
  },
  {
   "cell_type": "code",
   "execution_count": null,
   "id": "7e392cbd6a563ada",
   "metadata": {
    "ExecuteTime": {
     "end_time": "2023-11-13T10:55:02.572186Z",
     "start_time": "2023-11-13T10:55:02.563941Z"
    }
   },
   "outputs": [],
   "source": [
    "bp_targets_df"
   ]
  },
  {
   "cell_type": "code",
   "execution_count": null,
   "id": "d0cc5fb79d50b8bb",
   "metadata": {
    "ExecuteTime": {
     "end_time": "2023-11-13T10:55:02.655619Z",
     "start_time": "2023-11-13T10:55:02.569759Z"
    }
   },
   "outputs": [],
   "source": [
    "bp_targets_df.short_name.value_counts()"
   ]
  },
  {
   "cell_type": "markdown",
   "id": "3ca04cce2c1166b4",
   "metadata": {
    "collapsed": false
   },
   "source": [
    "# filter db for BP strategies\n",
    "\n",
    "- remove nimodipine, isosorbide dinitrate, sacubitril + valsartan, altéplase, sacubitril + valsartan Entresto cp, insuline aspart, midazolam, clopidogrel\n",
    "- si contiens cp, only keep first word\n",
    "- filter out if long_name contains \"NE PAS DONNER\"\n",
    "- filter out if condition contains multiple dates"
   ]
  },
  {
   "cell_type": "code",
   "execution_count": null,
   "id": "5727b3b511e6473f",
   "metadata": {
    "ExecuteTime": {
     "end_time": "2023-11-13T10:55:02.686923Z",
     "start_time": "2023-11-13T10:55:02.590765Z"
    }
   },
   "outputs": [],
   "source": [
    "bp_targets_df = bp_targets_df[~bp_targets_df.short_name.isin(['nimodipine', 'isosorbide dinitrate', 'sacubitril + valsartan', 'altéplase', 'sacubitril + valsartan Entresto cp', 'insuline aspart', 'midazolam', 'clopidogrel'])]\n",
    "bp_targets_df = bp_targets_df[~bp_targets_df.condition.str.contains('NE PAS DONNER')]"
   ]
  },
  {
   "cell_type": "code",
   "execution_count": null,
   "id": "89b67e1276b8e54c",
   "metadata": {
    "ExecuteTime": {
     "end_time": "2023-11-13T10:55:02.737155Z",
     "start_time": "2023-11-13T10:55:02.611922Z"
    }
   },
   "outputs": [],
   "source": [
    "def remove_pharma_drug_name(x):\n",
    "    word_list = x.split(' ')\n",
    "    if ('cp' in x) or ('inject' in x):\n",
    "        if len(word_list) < 4:\n",
    "            return word_list[0]\n",
    "        elif len(word_list) < 6:\n",
    "            return ' '.join(word_list[:3])\n",
    "        else:\n",
    "            print(x)\n",
    "            return ' '.join(word_list[:3])\n",
    "        \n",
    "    else:\n",
    "        return x\n",
    "        "
   ]
  },
  {
   "cell_type": "code",
   "execution_count": null,
   "id": "534aa9a5f9001f56",
   "metadata": {
    "ExecuteTime": {
     "end_time": "2023-11-13T10:55:02.737547Z",
     "start_time": "2023-11-13T10:55:02.615223Z"
    }
   },
   "outputs": [],
   "source": [
    "def ensure_correct_order_for_range(x):\n",
    "    # check if '-' in x\n",
    "    if not '-' in x:\n",
    "        return x\n",
    "    \n",
    "    # check if first number is smaller than second number\n",
    "    numbers = x.split('-')\n",
    "    if int(numbers[0]) < int(numbers[1]):\n",
    "        return x\n",
    "    else:\n",
    "        return f'{numbers[1]}-{numbers[0]}'"
   ]
  },
  {
   "cell_type": "code",
   "execution_count": null,
   "id": "3481e9eb3e29297",
   "metadata": {
    "ExecuteTime": {
     "end_time": "2023-11-13T10:55:02.738270Z",
     "start_time": "2023-11-13T10:55:02.626972Z"
    }
   },
   "outputs": [],
   "source": [
    "def ensure_correct_order_for_sbp_dbp(x):\n",
    "    # check if '/' in x\n",
    "    if not '/' in x:\n",
    "        return x\n",
    "    \n",
    "    # check if first number is greater than second number\n",
    "    numbers = x.split('/')\n",
    "    if int(numbers[0]) > int(numbers[1]):\n",
    "        return x\n",
    "    else:\n",
    "        return f'{numbers[1]}/{numbers[0]}'"
   ]
  },
  {
   "cell_type": "code",
   "execution_count": null,
   "id": "56f9ba9a92bba313",
   "metadata": {
    "ExecuteTime": {
     "end_time": "2023-11-13T10:55:02.738469Z",
     "start_time": "2023-11-13T10:55:02.634508Z"
    }
   },
   "outputs": [],
   "source": [
    "# filter out instructions with multiple dates\n",
    "def count_dates_occurrences(s):\n",
    "    s = s.condition\n",
    "    pattern = re.compile(r'\\b\\d{2}\\.\\d{2}\\b')\n",
    "    matches = pattern.findall(s)\n",
    "    \n",
    "    if len(matches) > 1:\n",
    "        return True\n",
    "    else:\n",
    "        return False"
   ]
  },
  {
   "cell_type": "code",
   "execution_count": null,
   "id": "685ccad3bfb16a7b",
   "metadata": {
    "ExecuteTime": {
     "end_time": "2023-11-13T10:55:02.999862Z",
     "start_time": "2023-11-13T10:55:02.648084Z"
    }
   },
   "outputs": [],
   "source": [
    "bp_targets_df.short_name = bp_targets_df.short_name.apply(lambda x: remove_pharma_drug_name(x))\n",
    "bp_targets_df.target_value = bp_targets_df.target_value.apply(lambda x: ensure_correct_order_for_range(x))\n",
    "bp_targets_df.target_value = bp_targets_df.target_value.apply(lambda x: ensure_correct_order_for_sbp_dbp(x))\n",
    "bp_targets_df = bp_targets_df[~bp_targets_df.filter(like='condition', axis=1).apply(count_dates_occurrences, axis=1)]"
   ]
  },
  {
   "cell_type": "markdown",
   "id": "713979deb08f2fe",
   "metadata": {
    "collapsed": false
   },
   "source": [
    "## Seperate anti-hypertensive drugs from vasopressors/fluids"
   ]
  },
  {
   "cell_type": "code",
   "execution_count": null,
   "id": "f047f403aaff2572",
   "metadata": {
    "ExecuteTime": {
     "end_time": "2023-11-13T10:55:03.000287Z",
     "start_time": "2023-11-13T10:55:02.815360Z"
    }
   },
   "outputs": [],
   "source": [
    "drug_class_lists_df = pd.read_excel('./drug_class_short_names.xlsx')"
   ]
  },
  {
   "cell_type": "markdown",
   "id": "3313e0838ec7022c",
   "metadata": {
    "collapsed": false
   },
   "source": [
    "## Antihypertensive strategies"
   ]
  },
  {
   "cell_type": "code",
   "execution_count": null,
   "id": "9e8367cd94fe07fa",
   "metadata": {
    "ExecuteTime": {
     "end_time": "2023-11-13T10:55:03.004045Z",
     "start_time": "2023-11-13T10:55:02.833474Z"
    }
   },
   "outputs": [],
   "source": [
    "antihypertensives_bp_targets_df = bp_targets_df[bp_targets_df.short_name.isin(drug_class_lists_df.antihypertensive)]\n",
    "antihypertensives_bp_targets_df"
   ]
  },
  {
   "cell_type": "code",
   "execution_count": null,
   "id": "1fb79e6ea609a806",
   "metadata": {
    "ExecuteTime": {
     "end_time": "2023-11-13T10:55:03.004647Z",
     "start_time": "2023-11-13T10:55:02.873036Z"
    }
   },
   "outputs": [],
   "source": [
    "antihypertensives_bp_targets_df[antihypertensives_bp_targets_df.target_condition == 'range'].target_value.value_counts()"
   ]
  },
  {
   "cell_type": "markdown",
   "id": "7b4fbccae5043ff5",
   "metadata": {
    "collapsed": false
   },
   "source": [
    "#### Strategies \n",
    "\n",
    "\n",
    "##### SBP Strategies\n",
    "- SBP < 130 mmHg: 130/80-85 (n~= 30)\n",
    "+/- = MAP < 100 mmHg\n",
    "\n",
    "- SBP < 140 mmHg: 140/80-105, or 120-140 or 130-140 (n~=1500)\n",
    "+/- = MAP < 100-117 mmHg\n",
    "\n",
    "- SBP < 150 mmHg: 150/80-110 (n~=900)\n",
    "+/- = MAP < 103-123 mmHg\n",
    "\n",
    "- SBP < 160 mmHg: 160/80-120 or 140-160 (n~=900)\n",
    "+/- = MAP < 106-133 mmHg\n",
    "\n",
    "- SBP < 180 mmHg: 180/90-120 (n~=800)\n",
    "+/- = MAP < 120-140 mmHg\n",
    "\n",
    "- SBP < 220 mmHg: 200/105-120 (n~=500)\n",
    "+/- = MAP < 143-153 mmHg\n",
    "\n",
    "\n",
    "##### MAP Strategies\n",
    "- MAP < 100 mmHg (n~=32)\n",
    "- MAP < 105 mmHg (n~=950)\n",
    "- MAP < 110 mmHg (n~=64)\n",
    "- MAP < 115 mmHg (n~=390)\n",
    "- MAP < 120 mmHg (n~=14)\n",
    "- MAP < 130 mmHg (n~=800)\n",
    "- MAP < 150 mmHg (n~=55)\n",
    "\n",
    "Note: pathphys, MAP makes more sense, but evidence built around SBP\n",
    "\n",
    "\n",
    "##### Strategy labels:\n",
    "\n",
    "- 0: MAP < 105 mmHg\n",
    "- 1: SBP < 140 mmHg\n",
    "- 2: SBP < 150 mmHg\n",
    "- 3: SBP < 160 mmHg\n",
    "- 4: MAP < 130 mmHg\n",
    "- 5: SBP < 180 mmHg\n",
    "- 6: SBP < 220 mmHg \n",
    "- 7: not limited\n",
    "\n"
   ]
  },
  {
   "cell_type": "code",
   "execution_count": null,
   "id": "5d2dd7ad474c8172",
   "metadata": {
    "ExecuteTime": {
     "end_time": "2023-11-13T10:55:03.004879Z",
     "start_time": "2023-11-13T10:55:02.888848Z"
    }
   },
   "outputs": [],
   "source": [
    "def target_strategy_identification(x):\n",
    "    # strategy 0: MAP < 105 mmHg\n",
    "    if any([\n",
    "            (x.target_variable == 'TAM') & (x.target_value == '105'),\n",
    "            ('-' in x.target_value) & (x.target_value.endswith('105'))\n",
    "    ]):\n",
    "        return 0\n",
    "    \n",
    "    # strategy 1: SBP < 140 mmHg\n",
    "    if any([\n",
    "            (x.target_variable != 'TAM') & (x.target_value == '140'),\n",
    "            (x.target_variable != 'TAM') & ('-' in x.target_value) & (x.target_value.endswith('140')),\n",
    "            ('140/' in x.target_value)\n",
    "    ]):\n",
    "        return 1\n",
    "\n",
    "    # strategy 2: SBP < 150 mmHg\n",
    "    if any([\n",
    "            (x.target_variable != 'TAM') & (x.target_value == '150'),\n",
    "            (x.target_variable != 'TAM') & ('-' in x.target_value) & (x.target_value.endswith('150')),\n",
    "            ('150/' in x.target_value)\n",
    "    ]):\n",
    "        return 2\n",
    "\n",
    "    # strategy 3: SBP < 160 mmHg\n",
    "    if any([\n",
    "            (x.target_variable != 'TAM') & (x.target_value == '160'),\n",
    "            (x.target_variable != 'TAM') & ('-' in x.target_value) & (x.target_value.endswith('160')),\n",
    "            ('160/' in x.target_value)\n",
    "    ]):\n",
    "        return 3\n",
    "\n",
    "    # strategy 4: MAP < 130 mmHg\n",
    "    if any([\n",
    "            (x.target_variable == 'TAM') & (x.target_value == '130'),\n",
    "            (x.target_variable == 'TAM') & ('-' in x.target_value) & (x.target_value.endswith('130'))\n",
    "    ]):\n",
    "        return 4\n",
    "\n",
    "    # strategy 5: SBP < 180 mmHg\n",
    "    if any([\n",
    "            (x.target_value == '180'),\n",
    "            (x.target_variable != 'TAM') & ('-' in x.target_value) & (x.target_value.endswith('180')),\n",
    "            ('180/' in x.target_value)\n",
    "    ]):\n",
    "        return 5\n",
    "\n",
    "    # strategy 6: SBP < 220 mmHg\n",
    "    \n",
    "    if any([\n",
    "            (x.target_value == '220'),\n",
    "            (x.target_variable != 'TAM') & ('-' in x.target_value) & (x.target_value.endswith('220')),\n",
    "            ('220/' in x.target_value)\n",
    "    ]):\n",
    "        return 6\n",
    "    \n",
    "    return None\n",
    "    "
   ]
  },
  {
   "cell_type": "code",
   "execution_count": null,
   "id": "54fa1fc0901567ce",
   "metadata": {
    "ExecuteTime": {
     "end_time": "2023-11-13T10:55:04.731713Z",
     "start_time": "2023-11-13T10:55:02.893815Z"
    }
   },
   "outputs": [],
   "source": [
    "antihypertensives_bp_targets_df['target_strategy'] = antihypertensives_bp_targets_df.apply(target_strategy_identification, axis=1)"
   ]
  },
  {
   "cell_type": "code",
   "execution_count": null,
   "id": "c7b8215e7d8d0e31",
   "metadata": {
    "ExecuteTime": {
     "end_time": "2023-11-13T10:55:04.760113Z",
     "start_time": "2023-11-13T10:55:04.739056Z"
    }
   },
   "outputs": [],
   "source": [
    "antihypertensives_bp_targets_df.target_strategy.value_counts()"
   ]
  },
  {
   "cell_type": "code",
   "execution_count": null,
   "id": "1bf2d59d734347e7",
   "metadata": {
    "ExecuteTime": {
     "end_time": "2023-11-13T10:55:04.762874Z",
     "start_time": "2023-11-13T10:55:04.745293Z"
    }
   },
   "outputs": [],
   "source": [
    "antihypertensives_bp_targets_df = antihypertensives_bp_targets_df[antihypertensives_bp_targets_df.target_strategy.notnull()]"
   ]
  },
  {
   "cell_type": "code",
   "execution_count": null,
   "id": "e3774a05e8d4a3fe",
   "metadata": {
    "ExecuteTime": {
     "end_time": "2023-11-13T11:12:43.862920Z",
     "start_time": "2023-11-13T11:12:43.795354Z"
    }
   },
   "outputs": [],
   "source": [
    "antihypertensives_bp_targets_df = antihypertensives_bp_targets_df.drop_duplicates()"
   ]
  },
  {
   "cell_type": "markdown",
   "id": "6838424b0f888b1f",
   "metadata": {
    "collapsed": false
   },
   "source": [
    "#### Format time\n",
    "\n",
    "Current format: entry per prescription with date from to \n",
    "Target format: entry per time resolution \n"
   ]
  },
  {
   "cell_type": "code",
   "execution_count": null,
   "id": "1e1d28cc8bbf6fb9",
   "metadata": {
    "ExecuteTime": {
     "end_time": "2023-11-13T10:55:04.872225Z",
     "start_time": "2023-11-13T10:55:04.788481Z"
    }
   },
   "outputs": [],
   "source": [
    "antihypertensives_bp_targets_df"
   ]
  },
  {
   "cell_type": "code",
   "execution_count": null,
   "id": "72fe683f918fd92d",
   "metadata": {
    "ExecuteTime": {
     "end_time": "2023-11-13T10:55:04.872503Z",
     "start_time": "2023-11-13T10:55:04.800073Z"
    }
   },
   "outputs": [],
   "source": [
    "# for every line in prescription, create a line per interval (day, hour, 15 min...)\n",
    "\n",
    "interval = 60 # in minutes\n",
    "datatime_format = '%d.%m.%Y %H:%M'\n",
    "\n",
    "def create_intervals(start_date, end_date, interval):\n",
    "    intervals = []\n",
    "    start_date = pd.to_datetime(start_date, format=datatime_format)\n",
    "    end_date = pd.to_datetime(end_date, format=datatime_format)\n",
    "    current_date = start_date\n",
    "    # create an interval for every timestep until end_date (included only if at least half of the interval is included)\n",
    "    while current_date < end_date - pd.Timedelta(minutes=interval/2):\n",
    "        intervals.append(current_date)\n",
    "        current_date = current_date + pd.Timedelta(minutes=interval)\n",
    "    return pd.Series(intervals)\n",
    "\n",
    "\n",
    "def get_prescription_end_date(end_date, stop_date):\n",
    "    end_date = pd.to_datetime(end_date, format=datatime_format)\n",
    "    stop_date = pd.to_datetime(stop_date, format=datatime_format)\n",
    "    # return whichever is earlier\n",
    "    if end_date < stop_date:\n",
    "        return end_date\n",
    "    else:\n",
    "        return stop_date\n",
    "    \n",
    "    \n",
    "def get_prescription_intervals(x, interval):\n",
    "    prescription_end_date = get_prescription_end_date(x.end_date, x.stop_date)\n",
    "    return create_intervals(x.start_date, prescription_end_date, interval)\n",
    "    \n"
   ]
  },
  {
   "cell_type": "code",
   "execution_count": null,
   "id": "dc4000420e26f2c5",
   "metadata": {
    "ExecuteTime": {
     "end_time": "2023-11-13T10:55:25.972133Z",
     "start_time": "2023-11-13T10:55:04.803851Z"
    }
   },
   "outputs": [],
   "source": [
    "df2 = antihypertensives_bp_targets_df.apply(lambda x: get_prescription_intervals(x, interval), axis=1)"
   ]
  },
  {
   "cell_type": "code",
   "execution_count": null,
   "id": "a35518dd99c39e43",
   "metadata": {
    "ExecuteTime": {
     "end_time": "2023-11-13T10:55:25.993361Z",
     "start_time": "2023-11-13T10:55:25.976064Z"
    }
   },
   "outputs": [],
   "source": [
    "df3 = antihypertensives_bp_targets_df.join(df2)"
   ]
  },
  {
   "cell_type": "code",
   "execution_count": null,
   "id": "cb1e7423192a7a67",
   "metadata": {
    "ExecuteTime": {
     "end_time": "2023-11-13T10:55:29.612818Z",
     "start_time": "2023-11-13T10:55:25.994216Z"
    }
   },
   "outputs": [],
   "source": [
    "df3 = df3.melt(id_vars=antihypertensives_bp_targets_df.columns, value_name='sample_date')"
   ]
  },
  {
   "cell_type": "code",
   "execution_count": null,
   "id": "b767c30c82f8d6dd",
   "metadata": {
    "ExecuteTime": {
     "end_time": "2023-11-13T10:55:31.113557Z",
     "start_time": "2023-11-13T10:55:30.344123Z"
    }
   },
   "outputs": [],
   "source": [
    "df3.drop(columns=['variable'], inplace=True)\n",
    "# drop NaT in sample_date\n",
    "df3.dropna(subset=['sample_date'], inplace=True)"
   ]
  },
  {
   "cell_type": "code",
   "execution_count": null,
   "id": "40afa4b12ba82705",
   "metadata": {
    "ExecuteTime": {
     "end_time": "2023-11-13T10:55:31.173223Z",
     "start_time": "2023-11-13T10:55:31.139581Z"
    }
   },
   "outputs": [],
   "source": [
    "df3.head(50)"
   ]
  },
  {
   "cell_type": "markdown",
   "id": "d9c70bdca4338b",
   "metadata": {
    "collapsed": false
   },
   "source": [
    "Display strategy as a function of date"
   ]
  },
  {
   "cell_type": "code",
   "execution_count": null,
   "id": "52e348f9fa70e817",
   "metadata": {
    "ExecuteTime": {
     "end_time": "2023-11-13T11:33:36.670910Z",
     "start_time": "2023-11-13T11:33:35.605183Z"
    }
   },
   "outputs": [],
   "source": [
    "# plot strategy as a function of date for temp\n",
    "import matplotlib.pyplot as plt\n",
    "import seaborn as sns\n",
    "\n",
    "temp = df3[df3.case_admission_id == '307385_6473']\n",
    "\n",
    "fig, ax = plt.subplots(figsize=(20,10))\n",
    "sns.scatterplot(data=temp, x='sample_date', y='target_strategy', hue='target_strategy', ax=ax)"
   ]
  },
  {
   "cell_type": "markdown",
   "id": "27ba4593a8c38b3f",
   "metadata": {
    "collapsed": false
   },
   "source": [
    "# test full function"
   ]
  },
  {
   "cell_type": "code",
   "execution_count": null,
   "id": "4495d0f5d137d27b",
   "metadata": {
    "ExecuteTime": {
     "end_time": "2023-11-13T10:55:33.381109Z",
     "start_time": "2023-11-13T10:55:32.179347Z"
    }
   },
   "outputs": [],
   "source": [
    "from geneva_stroke_unit_preprocessing.prescription_preprocessing.anti_hypertensive_strategy_extraction import \\\n",
    "    extract_anti_hypertensive_strategy\n",
    "\n",
    "test_df = extract_anti_hypertensive_strategy(prescription_df)"
   ]
  },
  {
   "cell_type": "code",
   "execution_count": null,
   "id": "716fd881cfddcef0",
   "metadata": {
    "ExecuteTime": {
     "start_time": "2023-11-13T10:55:33.380144Z"
    }
   },
   "outputs": [],
   "source": [
    "test_df.head(50)"
   ]
  },
  {
   "cell_type": "markdown",
   "id": "4c4f927d54052724",
   "metadata": {
    "collapsed": false
   },
   "source": [
    "#### Verify that there is a single strategy at a time per case_admission_id\n",
    "- strategy should not overlap in time (defined as start_date to end_date or stop_date, whichever is earlier)\n",
    "- if strategies overlap, keep the most aggressive one (0 > 1 > 2 > 3 > 4 > 5 > 6 > 7)\n",
    "\n",
    "-> this should be done after assigning timebines"
   ]
  },
  {
   "cell_type": "markdown",
   "id": "73cd9269d9eac965",
   "metadata": {
    "collapsed": false
   },
   "source": [
    "## BP support strategies"
   ]
  },
  {
   "cell_type": "code",
   "execution_count": null,
   "id": "ad2caefaae082b9",
   "metadata": {
    "ExecuteTime": {
     "end_time": "2023-11-13T10:55:33.402395Z",
     "start_time": "2023-11-13T10:55:33.383315Z"
    }
   },
   "outputs": [],
   "source": [
    "bp_support_targets_df = bp_targets_df[bp_targets_df.short_name.isin(pd.concat([drug_class_lists_df.vasopressor, drug_class_lists_df.fluid]).dropna().values)]\n",
    "bp_support_targets_df"
   ]
  },
  {
   "cell_type": "code",
   "execution_count": null,
   "id": "ba6fee88344c939b",
   "metadata": {
    "ExecuteTime": {
     "start_time": "2023-11-13T10:55:33.390274Z"
    }
   },
   "outputs": [],
   "source": [
    "bp_support_targets_df.target_value.value_counts()"
   ]
  },
  {
   "cell_type": "code",
   "execution_count": null,
   "id": "b32175d933d5bdfb",
   "metadata": {
    "ExecuteTime": {
     "start_time": "2023-11-13T10:55:33.392804Z"
    }
   },
   "outputs": [],
   "source": []
  }
 ],
 "metadata": {
  "kernelspec": {
   "display_name": "Python 3",
   "language": "python",
   "name": "python3"
  },
  "language_info": {
   "codemirror_mode": {
    "name": "ipython",
    "version": 2
   },
   "file_extension": ".py",
   "mimetype": "text/x-python",
   "name": "python",
   "nbconvert_exporter": "python",
   "pygments_lexer": "ipython2",
   "version": "2.7.6"
  }
 },
 "nbformat": 4,
 "nbformat_minor": 5
}
