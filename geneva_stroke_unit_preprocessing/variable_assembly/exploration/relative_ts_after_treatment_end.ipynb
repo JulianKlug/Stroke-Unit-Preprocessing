{
 "cells": [
  {
   "cell_type": "code",
   "execution_count": null,
   "id": "9bff12c6c99db7e0",
   "metadata": {
    "ExecuteTime": {
     "end_time": "2023-11-20T14:25:59.927594Z",
     "start_time": "2023-11-20T14:25:59.416001Z"
    }
   },
   "outputs": [],
   "source": [
    "import pandas as pd"
   ]
  },
  {
   "cell_type": "code",
   "execution_count": null,
   "id": "initial_id",
   "metadata": {
    "ExecuteTime": {
     "end_time": "2023-11-20T14:25:59.937469Z",
     "start_time": "2023-11-20T14:25:59.930694Z"
    }
   },
   "outputs": [],
   "source": [
    "ehr_data_path = '/Users/jk1/stroke_datasets/stroke_unit_dataset/per_value/Extraction_20220815'\n",
    "stroke_registry_data_path = '/Users/jk1/Library/CloudStorage/OneDrive-unige.ch/stroke_research/geneva_stroke_unit_dataset/data/stroke_registry/post_hoc_modified/stroke_registry_post_hoc_modified.xlsx'\n",
    "patient_selection_path = '/Users/jk1/temp/treatment_effects/gsu_extraction_14112023_100007/high_frequency_data_patient_selection_with_details.csv'\n",
    "variable_selection_path = '/Users/jk1/temp/treatment_effects/selected_variables_treatment_effect.xlsx'\n",
    "output_path = '/Users/jk1/temp/treatment_effects/temporal_prepro_test'\n",
    "log_dir = output_path\n",
    "verbose = True"
   ]
  },
  {
   "cell_type": "code",
   "execution_count": null,
   "id": "d8c92b65d661b498",
   "metadata": {},
   "outputs": [],
   "source": [
    "from geneva_stroke_unit_preprocessing.variable_assembly.variable_database_assembly import assemble_variable_database\n",
    "\n",
    "feature_df = assemble_variable_database(ehr_data_path, stroke_registry_data_path,\n",
    "                                            patient_selection_path, variable_selection_path,\n",
    "                                            log_dir=log_dir, verbose=verbose)"
   ]
  },
  {
   "cell_type": "code",
   "execution_count": null,
   "id": "ffb5e82b9a2687fb",
   "metadata": {
    "ExecuteTime": {
     "end_time": "2023-11-20T14:26:11.150225Z",
     "start_time": "2023-11-20T14:26:11.124396Z"
    }
   },
   "outputs": [],
   "source": [
    "feature_df.head(1000)"
   ]
  },
  {
   "cell_type": "code",
   "execution_count": null,
   "id": "7077e6c201871603",
   "metadata": {
    "ExecuteTime": {
     "end_time": "2023-11-20T11:07:48.044569Z",
     "start_time": "2023-11-20T11:07:36.548563Z"
    }
   },
   "outputs": [],
   "source": [
    "from geneva_stroke_unit_preprocessing.utils import create_registry_case_identification_column\n",
    "from geneva_stroke_unit_preprocessing.patient_selection.restrict_to_patient_selection import \\\n",
    "    restrict_to_patient_selection\n",
    "\n",
    "stroke_registry_df = pd.read_excel(stroke_registry_data_path)\n",
    "stroke_registry_df['patient_id'] = stroke_registry_df['Case ID'].apply(lambda x: x[8:-4])\n",
    "stroke_registry_df['EDS_last_4_digits'] = stroke_registry_df['Case ID'].apply(lambda x: x[-4:])\n",
    "stroke_registry_df['case_admission_id'] = create_registry_case_identification_column(stroke_registry_df)\n",
    "\n",
    "\n",
    "restricted_stroke_registry_df = restrict_to_patient_selection(stroke_registry_df, patient_selection_path,\n",
    "                                                              verbose=verbose, restrict_to_event_period=False)"
   ]
  },
  {
   "cell_type": "code",
   "execution_count": null,
   "id": "a14b6584ca121bad",
   "metadata": {
    "ExecuteTime": {
     "end_time": "2023-11-20T11:07:48.058625Z",
     "start_time": "2023-11-20T11:07:48.055528Z"
    }
   },
   "outputs": [],
   "source": [
    "restricted_stroke_registry_df.head()"
   ]
  },
  {
   "cell_type": "code",
   "execution_count": null,
   "id": "62cf5ed30e5bb98a",
   "metadata": {
    "ExecuteTime": {
     "end_time": "2023-11-20T11:14:04.944877Z",
     "start_time": "2023-11-20T11:14:04.898191Z"
    }
   },
   "outputs": [],
   "source": [
    "# check if all patients with Date of groin puncture have a IAT end date\n",
    "restricted_stroke_registry_df['Date of groin puncture']"
   ]
  },
  {
   "cell_type": "code",
   "execution_count": null,
   "id": "b2111b7810392f10",
   "metadata": {
    "ExecuteTime": {
     "end_time": "2023-11-20T11:14:40.798320Z",
     "start_time": "2023-11-20T11:14:40.769954Z"
    }
   },
   "outputs": [],
   "source": [
    "restricted_stroke_registry_df['IAT_start_datetime'] = pd.to_datetime(\n",
    "        pd.to_datetime(stroke_registry_df['Date of groin puncture'], format='%Y%m%d').dt.strftime('%d-%m-%Y') \\\n",
    "        + ' ' + pd.to_datetime(stroke_registry_df['Time of groin puncture'], format='%H:%M',\n",
    "                                                       infer_datetime_format=True).dt.strftime('%H:%M'), format='%d-%m-%Y %H:%M')"
   ]
  },
  {
   "cell_type": "code",
   "execution_count": null,
   "id": "a3436893c4c0f63d",
   "metadata": {
    "ExecuteTime": {
     "end_time": "2023-11-20T11:15:20.625396Z",
     "start_time": "2023-11-20T11:15:20.605875Z"
    }
   },
   "outputs": [],
   "source": [
    "restricted_stroke_registry_df['IAT_end_datetime'] = pd.to_datetime(\n",
    "        pd.to_datetime(stroke_registry_df['IAT end date'], format='%Y%m%d').dt.strftime('%d-%m-%Y') \\\n",
    "        + ' ' + pd.to_datetime(stroke_registry_df['IAT end time'], format='%H:%M',\n",
    "                                                       infer_datetime_format=True).dt.strftime('%H:%M'), format='%d-%m-%Y %H:%M')"
   ]
  },
  {
   "cell_type": "code",
   "execution_count": null,
   "id": "7c8747774aeab634",
   "metadata": {
    "ExecuteTime": {
     "end_time": "2023-11-20T11:15:49.029014Z",
     "start_time": "2023-11-20T11:15:49.011495Z"
    }
   },
   "outputs": [],
   "source": [
    "# compute duration of IAT\n",
    "restricted_stroke_registry_df['IAT_duration'] = restricted_stroke_registry_df['IAT_end_datetime'] - restricted_stroke_registry_df['IAT_start_datetime']"
   ]
  },
  {
   "cell_type": "code",
   "execution_count": null,
   "id": "9274e88c92458b84",
   "metadata": {
    "ExecuteTime": {
     "end_time": "2023-11-20T11:19:57.554629Z",
     "start_time": "2023-11-20T11:19:57.549314Z"
    }
   },
   "outputs": [],
   "source": [
    "# if restricted_stroke_registry_df['IAT_end_datetime'] is nan set it to the IAT start datetime + 2h\n",
    "restricted_stroke_registry_df.loc[restricted_stroke_registry_df['IAT_end_datetime'].isna(), 'IAT_end_datetime'] = restricted_stroke_registry_df.loc[restricted_stroke_registry_df['IAT_end_datetime'].isna(), 'IAT_start_datetime'] + pd.Timedelta(hours=2)"
   ]
  },
  {
   "cell_type": "code",
   "execution_count": null,
   "id": "8242b3d8d43dd9fa",
   "metadata": {
    "ExecuteTime": {
     "end_time": "2023-11-20T11:19:57.997364Z",
     "start_time": "2023-11-20T11:19:57.993303Z"
    }
   },
   "outputs": [],
   "source": [
    "restricted_stroke_registry_df[['IAT_start_datetime', 'IAT_end_datetime', 'IAT_duration']]"
   ]
  },
  {
   "cell_type": "code",
   "execution_count": null,
   "id": "2cf736cc74759417",
   "metadata": {
    "ExecuteTime": {
     "end_time": "2023-11-20T11:21:40.063582Z",
     "start_time": "2023-11-20T11:21:40.058658Z"
    }
   },
   "outputs": [],
   "source": [
    "restricted_stroke_registry_df['IVT_start_datetime'] = pd.to_datetime(\n",
    "        pd.to_datetime(stroke_registry_df['IVT start date'], format='%Y%m%d').dt.strftime('%d-%m-%Y') \\\n",
    "        + ' ' + pd.to_datetime(stroke_registry_df['IVT start time'], format='%H:%M',\n",
    "                                                       infer_datetime_format=True).dt.strftime('%H:%M'), format='%d-%m-%Y %H:%M')"
   ]
  },
  {
   "cell_type": "code",
   "execution_count": null,
   "id": "24b4bc89a42d3672",
   "metadata": {
    "ExecuteTime": {
     "end_time": "2023-11-20T11:22:27.364014Z",
     "start_time": "2023-11-20T11:22:27.355830Z"
    }
   },
   "outputs": [],
   "source": [
    "# check if all patients with IVT with rtPA == yes have a IVT start datetime\n",
    "restricted_stroke_registry_df.loc[restricted_stroke_registry_df['IVT with rtPA'] == 'yes', 'IVT_start_datetime'].isna().sum()"
   ]
  },
  {
   "cell_type": "code",
   "execution_count": null,
   "id": "cbe89d85c0beb0ee",
   "metadata": {
    "ExecuteTime": {
     "end_time": "2023-11-20T11:23:12.512972Z",
     "start_time": "2023-11-20T11:23:12.495503Z"
    }
   },
   "outputs": [],
   "source": [
    "# set ivt end datetime to ivt start datetime + 1h\n",
    "restricted_stroke_registry_df['IVT_end_datetime'] = restricted_stroke_registry_df['IVT_start_datetime'] + pd.Timedelta(hours=1)"
   ]
  },
  {
   "cell_type": "code",
   "execution_count": null,
   "id": "956a4c8271777aed",
   "metadata": {
    "ExecuteTime": {
     "end_time": "2023-11-20T11:23:15.534517Z",
     "start_time": "2023-11-20T11:23:15.508883Z"
    }
   },
   "outputs": [],
   "source": [
    "restricted_stroke_registry_df[['IVT_start_datetime', 'IVT_end_datetime']]"
   ]
  },
  {
   "cell_type": "code",
   "execution_count": null,
   "id": "aca2f59f6987273d",
   "metadata": {
    "ExecuteTime": {
     "end_time": "2023-11-20T11:23:56.637993Z",
     "start_time": "2023-11-20T11:23:56.614288Z"
    }
   },
   "outputs": [],
   "source": [
    "# set acute treatment end datetime to the max of ivt end datetime and iat end datetime\n",
    "restricted_stroke_registry_df['acute_treatment_end_datetime'] = restricted_stroke_registry_df[['IVT_end_datetime', 'IAT_end_datetime']].max(axis=1)"
   ]
  },
  {
   "cell_type": "code",
   "execution_count": null,
   "id": "2c334daef598c4b9",
   "metadata": {
    "ExecuteTime": {
     "end_time": "2023-11-20T11:24:00.209536Z",
     "start_time": "2023-11-20T11:24:00.185448Z"
    }
   },
   "outputs": [],
   "source": [
    "restricted_stroke_registry_df[['IVT_end_datetime', 'IAT_end_datetime', 'acute_treatment_end_datetime']]"
   ]
  },
  {
   "cell_type": "code",
   "execution_count": null,
   "id": "69ff6ebf994210ed",
   "metadata": {
    "ExecuteTime": {
     "end_time": "2023-11-20T13:40:57.947851Z",
     "start_time": "2023-11-20T13:40:55.315714Z"
    }
   },
   "outputs": [],
   "source": [
    "# add acute_treatment_end_datetime column to feature_df\n",
    "feature_df = feature_df.merge(restricted_stroke_registry_df[['case_admission_id', 'acute_treatment_end_datetime']], on='case_admission_id', how='left')"
   ]
  },
  {
   "cell_type": "code",
   "execution_count": null,
   "id": "83fb0a8352173667",
   "metadata": {
    "ExecuteTime": {
     "end_time": "2023-11-20T13:41:00.710279Z",
     "start_time": "2023-11-20T13:41:00.661665Z"
    }
   },
   "outputs": [],
   "source": [
    "feature_df[['case_admission_id', 'acute_treatment_end_datetime']]"
   ]
  },
  {
   "cell_type": "code",
   "execution_count": null,
   "id": "79373e0b6aff45f9",
   "metadata": {
    "ExecuteTime": {
     "end_time": "2023-11-20T13:41:47.379076Z",
     "start_time": "2023-11-20T13:41:47.368678Z"
    }
   },
   "outputs": [],
   "source": [
    "feature_df[feature_df.case_admission_id == '124928_5998'].acute_treatment_end_datetime.unique()"
   ]
  },
  {
   "cell_type": "code",
   "execution_count": null,
   "id": "2a51fd26ad48dcc0",
   "metadata": {},
   "outputs": [],
   "source": []
  }
 ],
 "metadata": {
  "kernelspec": {
   "display_name": "Python 3",
   "language": "python",
   "name": "python3"
  },
  "language_info": {
   "codemirror_mode": {
    "name": "ipython",
    "version": 2
   },
   "file_extension": ".py",
   "mimetype": "text/x-python",
   "name": "python",
   "nbconvert_exporter": "python",
   "pygments_lexer": "ipython2",
   "version": "2.7.6"
  }
 },
 "nbformat": 4,
 "nbformat_minor": 5
}
